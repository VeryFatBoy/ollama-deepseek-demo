{
 "cells": [
  {
   "attachments": {},
   "cell_type": "markdown",
   "id": "7964aa7f-7b23-4424-aa9c-34c69f4aeed3",
   "metadata": {
    "language": "python"
   },
   "source": [
    "<img src = \"https://github.com/VeryFatBoy/notebooks/blob/main/common/images/img_github_singlestore-jupyter_featured_2.png?raw=true\">"
   ]
  },
  {
   "attachments": {},
   "cell_type": "markdown",
   "id": "62074cbd-75fb-4345-9dd1-b95c9a026d9b",
   "metadata": {
    "language": "python"
   },
   "source": [
    "<div id=\"singlestore-header\" style=\"display: flex; background-color: rgba(235, 249, 245, 0.25); padding: 5px;\">\n",
    "    <div id=\"icon-image\" style=\"width: 90px; height: 90px;\">\n",
    "        <img width=\"100%\" height=\"100%\" src=\"https://raw.githubusercontent.com/singlestore-labs/spaces-notebooks/master/common/images/header-icons/browser.png\" />\n",
    "    </div>\n",
    "    <div id=\"text\" style=\"padding: 5px; margin-left: 10px;\">\n",
    "        <div id=\"badge\" style=\"display: inline-block; background-color: rgba(0, 0, 0, 0.15); border-radius: 4px; padding: 4px 8px; align-items: center; margin-top: 6px; margin-bottom: -2px; font-size: 80%\">SingleStore Notebooks</div>\n",
    "        <h1 style=\"font-weight: 500; margin: 8px 0 0 4px;\">How to Build Local LLM Apps with Ollama, DeepSeek-R1 and SingleStore Kai</h1>\n",
    "    </div>\n",
    "</div>"
   ]
  },
  {
   "cell_type": "markdown",
   "id": "2fde5682-a68b-49ce-a40a-86fdd204d504",
   "metadata": {},
   "source": [
    "<div class=\"alert alert-block alert-warning\">\n",
    "    <b class=\"fa fa-solid fa-exclamation-circle\"></b>\n",
    "    <div>\n",
    "        <p><b>Action Required</b></p>\n",
    "        <p>Create an environment variable to point to your SingleStore Kai instance, as follows:</p>\n",
    "        <p>export KAI_URL=\"mongodb://admin:&lt;password&gt;@&lt;host&gt;:27017/?authMechanism=PLAIN&tls=true&loadBalanced=true\"</p>\n",
    "    </div>\n",
    "</div>"
   ]
  },
  {
   "cell_type": "code",
   "execution_count": 1,
   "id": "194da234-0016-4715-a827-cdb3bacb4926",
   "metadata": {
    "language": "python"
   },
   "outputs": [],
   "source": [
    "!pip cache purge --quiet"
   ]
  },
  {
   "cell_type": "code",
   "execution_count": 2,
   "id": "03eb6479-dd0e-4427-8fba-d669b37c2a8e",
   "metadata": {
    "language": "python"
   },
   "outputs": [],
   "source": [
    "!pip install langchain-community langchain-ollama ollama pymongo --quiet"
   ]
  },
  {
   "cell_type": "code",
   "execution_count": 3,
   "id": "07eff131-9576-4577-a0a5-32c88cd2067a",
   "metadata": {
    "language": "python"
   },
   "outputs": [],
   "source": [
    "import ollama\n",
    "import os\n",
    "import pymongo\n",
    "import re\n",
    "\n",
    "from langchain_community.vectorstores import MongoDBAtlasVectorSearch\n",
    "from langchain_core.documents import Document\n",
    "from langchain_ollama import OllamaEmbeddings"
   ]
  },
  {
   "cell_type": "code",
   "execution_count": 4,
   "id": "4e96975f-8ac6-4b25-b4d5-2275ecd60a82",
   "metadata": {},
   "outputs": [
    {
     "data": {
      "text/plain": [
       "ProgressResponse(status='success', completed=None, total=None, digest=None)"
      ]
     },
     "execution_count": 4,
     "metadata": {},
     "output_type": "execute_result"
    }
   ],
   "source": [
    "embedding_model = \"all-minilm\"\n",
    "\n",
    "ollama.pull(embedding_model)"
   ]
  },
  {
   "cell_type": "code",
   "execution_count": 5,
   "id": "f7cce5f5-c13a-4abc-8d22-d793095e2392",
   "metadata": {},
   "outputs": [
    {
     "data": {
      "text/plain": [
       "ProgressResponse(status='success', completed=None, total=None, digest=None)"
      ]
     },
     "execution_count": 5,
     "metadata": {},
     "output_type": "execute_result"
    }
   ],
   "source": [
    "llm = \"deepseek-r1:1.5b\"\n",
    "\n",
    "ollama.pull(llm)"
   ]
  },
  {
   "cell_type": "code",
   "execution_count": 6,
   "id": "bc13746e-fd7b-4337-b953-cc9534c565fb",
   "metadata": {},
   "outputs": [],
   "source": [
    "connection_url_kai = os.getenv(\"KAI_URL\")"
   ]
  },
  {
   "cell_type": "code",
   "execution_count": 7,
   "id": "b7077c24-e50e-4831-9249-056c382dec0b",
   "metadata": {
    "language": "python"
   },
   "outputs": [],
   "source": [
    "kai_client = pymongo.MongoClient(connection_url_kai)\n",
    "db = kai_client[\"langchain_demo\"]\n",
    "collection = db[\"langchain_docs\"]"
   ]
  },
  {
   "cell_type": "code",
   "execution_count": 8,
   "id": "7a929eb6-a3df-4209-91bb-7788132014a8",
   "metadata": {
    "language": "python"
   },
   "outputs": [],
   "source": [
    "documents = [\n",
    "    \"Llamas are members of the camelid family meaning they're pretty closely related to vicuñas and camels\",\n",
    "    \"Llamas were first domesticated and used as pack animals 4,000 to 5,000 years ago in the Peruvian highlands\",\n",
    "    \"Llamas can grow as much as 6 feet tall though the average llama between 5 feet 6 inches and 5 feet 9 inches tall\",\n",
    "    \"Llamas weigh between 280 and 450 pounds and can carry 25 to 30 percent of their body weight\",\n",
    "    \"Llamas are vegetarians and have very efficient digestive systems\",\n",
    "    \"Llamas live to be about 20 years old, though some only live for 15 years and others live to be 30 years old\"\n",
    "]\n",
    "\n",
    "embeddings = OllamaEmbeddings(\n",
    "    model = embedding_model,\n",
    ")\n",
    "\n",
    "dimensions = len(embeddings.embed_query(documents[0]))\n",
    "\n",
    "docs = [Document(text) for text in documents]"
   ]
  },
  {
   "cell_type": "code",
   "execution_count": 9,
   "id": "54de5f9d-8b10-4809-ac3a-a3fc77d502bc",
   "metadata": {
    "language": "python"
   },
   "outputs": [
    {
     "data": {
      "text/plain": [
       "'vector_index'"
      ]
     },
     "execution_count": 9,
     "metadata": {},
     "output_type": "execute_result"
    }
   ],
   "source": [
    "collection.create_index(\n",
    "    [(\"embedding\", \"vector\")],\n",
    "    name = \"vector_index\",\n",
    "    kaiIndexOptions = {\n",
    "        \"index_type\": \"AUTO\",\n",
    "        \"metric_type\": \"EUCLIDEAN_DISTANCE\",\n",
    "        \"dimensions\": dimensions\n",
    "    }\n",
    ")"
   ]
  },
  {
   "cell_type": "code",
   "execution_count": 10,
   "id": "91e609d5-58fd-43a4-a489-0f9a30df8eff",
   "metadata": {
    "language": "python"
   },
   "outputs": [],
   "source": [
    "docsearch = MongoDBAtlasVectorSearch.from_documents(\n",
    "    docs,\n",
    "    embeddings,\n",
    "    collection = collection,\n",
    "    index_name = \"vector_index\"\n",
    ")"
   ]
  },
  {
   "cell_type": "code",
   "execution_count": 11,
   "id": "403954e8-4dbf-4257-86cc-b89beca1c561",
   "metadata": {
    "language": "python"
   },
   "outputs": [
    {
     "name": "stdout",
     "output_type": "stream",
     "text": [
      "Llamas are members of the camelid family meaning they're pretty closely related to vicuñas and camels\n"
     ]
    }
   ],
   "source": [
    "prompt = \"What animals are llamas related to?\"\n",
    "docs = docsearch.similarity_search(prompt)\n",
    "data = docs[0].page_content\n",
    "print(data)"
   ]
  },
  {
   "cell_type": "code",
   "execution_count": 12,
   "id": "06cb23e5-cc30-43d6-9bee-b1ef146b7cf0",
   "metadata": {
    "language": "python"
   },
   "outputs": [
    {
     "name": "stdout",
     "output_type": "stream",
     "text": [
      "\n",
      "\n",
      "Llamas are tailless tail Animals belonging to the Largilphas family. They share a lineage with vicuñas, which are also part of the camelid family, indicating close relatedness. However, unlike vicuñas, llamas do not possess tails, distinguishing them from other tailless tail Animals like the wild boars.\n"
     ]
    }
   ],
   "source": [
    "output = ollama.generate(\n",
    "    model = llm,\n",
    "    prompt = f\"Using this data: {data}. Respond to this prompt: {prompt}.\"\n",
    ")\n",
    "\n",
    "content = output[\"response\"]\n",
    "remove_think_tags = True\n",
    "\n",
    "if remove_think_tags:\n",
    "    content = re.sub(r\"<think>.*?</think>\", \"\", content, flags = re.DOTALL)\n",
    "\n",
    "print(content)"
   ]
  }
 ],
 "metadata": {
  "jupyterlab": {
   "notebooks": {
    "version_major": 6,
    "version_minor": 4
   }
  },
  "kernelspec": {
   "display_name": "Python 3 (ipykernel)",
   "language": "python",
   "name": "python3"
  },
  "language_info": {
   "codemirror_mode": {
    "name": "ipython",
    "version": 3
   },
   "file_extension": ".py",
   "mimetype": "text/x-python",
   "name": "python",
   "nbconvert_exporter": "python",
   "pygments_lexer": "ipython3",
   "version": "3.13.1"
  },
  "singlestore_cell_default_language": "python",
  "singlestore_connection": {
   "connectionID": "",
   "defaultDatabase": ""
  },
  "singlestore_row_limit": 300
 },
 "nbformat": 4,
 "nbformat_minor": 5
}
