{
 "cells": [
  {
   "cell_type": "markdown",
   "id": "f1039837-688a-4976-9115-f05ed17e3111",
   "metadata": {},
   "source": [
    "<img src = \"https://github.com/VeryFatBoy/notebooks/blob/main/common/images/img_github_singlestore-jupyter_featured_2.png?raw=true\">"
   ]
  },
  {
   "cell_type": "markdown",
   "id": "9e5dae59-c1f9-4d5d-babd-e986ebe1a49e",
   "metadata": {},
   "source": [
    "<div id=\"singlestore-header\" style=\"display: flex; background-color: rgba(235, 249, 245, 0.25); padding: 5px;\">\n",
    "    <div id=\"icon-image\" style=\"width: 90px; height: 90px;\">\n",
    "        <img width=\"100%\" height=\"100%\" src=\"https://raw.githubusercontent.com/singlestore-labs/spaces-notebooks/master/common/images/header-icons/browser.png\" />\n",
    "    </div>\n",
    "    <div id=\"text\" style=\"padding: 5px; margin-left: 10px;\">\n",
    "        <div id=\"badge\" style=\"display: inline-block; background-color: rgba(0, 0, 0, 0.15); border-radius: 4px; padding: 4px 8px; align-items: center; margin-top: 6px; margin-bottom: -2px; font-size: 80%\">SingleStore Notebooks</div>\n",
    "        <h1 style=\"font-weight: 500; margin: 8px 0 0 4px;\">How to Build Local LLM RAG Apps with Ollama, DeepSeek-R1 and SingleStore</h1>\n",
    "    </div>\n",
    "</div>"
   ]
  },
  {
   "cell_type": "markdown",
   "id": "32438b05-33ce-46c3-a92a-6ae0366d723d",
   "metadata": {},
   "source": [
    "<div class=\"alert alert-block alert-warning\">\n",
    "    <b class=\"fa fa-solid fa-exclamation-circle\"></b>\n",
    "    <div>\n",
    "        <p><b>Action Required</b></p>\n",
    "        <p>Create an environment variable to point to your SingleStore instance, as follows:</p>\n",
    "        <p>export SINGLESTOREDB_URL=\"&lt;username&gt;:&lt;password&gt;@&lt;host&gt;:&lt;port&gt;/&lt;database&gt;\"</p>\n",
    "    </div>\n",
    "</div>"
   ]
  },
  {
   "cell_type": "code",
   "execution_count": 1,
   "id": "3843ade9-3bf0-4dc0-b3a3-001a990a5d62",
   "metadata": {},
   "outputs": [
    {
     "name": "stdout",
     "output_type": "stream",
     "text": [
      "\u001b[33mWARNING: No matching packages\u001b[0m\u001b[33m\n",
      "\u001b[0m"
     ]
    }
   ],
   "source": [
    "!pip cache purge --quiet"
   ]
  },
  {
   "cell_type": "code",
   "execution_count": 2,
   "id": "562e330e-e810-4911-96cb-6f51a19dace4",
   "metadata": {},
   "outputs": [],
   "source": [
    "!pip install langchain --quiet\n",
    "!pip install langchain-community --quiet\n",
    "!pip install langchain-ollama --quiet\n",
    "!pip install ollama --quiet\n",
    "!pip install pdf2image --quiet\n",
    "!pip install pdfminer.six --quiet\n",
    "!pip install singlestoredb --quiet\n",
    "!pip install unstructured==0.10.14 --quiet"
   ]
  },
  {
   "cell_type": "code",
   "execution_count": 3,
   "id": "5606f3d0-272b-4fdd-8997-980684d9fc04",
   "metadata": {},
   "outputs": [],
   "source": [
    "import nltk\n",
    "import ollama\n",
    "import re\n",
    "\n",
    "from langchain.document_loaders import OnlinePDFLoader\n",
    "from langchain.text_splitter import RecursiveCharacterTextSplitter\n",
    "from langchain_community.vectorstores import SingleStoreDB\n",
    "from langchain_community.vectorstores.utils import DistanceStrategy\n",
    "from langchain_ollama import OllamaEmbeddings"
   ]
  },
  {
   "cell_type": "code",
   "execution_count": 4,
   "id": "a20588da-3766-44ed-b40a-b3f162f4bab7",
   "metadata": {},
   "outputs": [
    {
     "data": {
      "text/plain": [
       "ProgressResponse(status='success', completed=None, total=None, digest=None)"
      ]
     },
     "execution_count": 4,
     "metadata": {},
     "output_type": "execute_result"
    }
   ],
   "source": [
    "embedding_model = \"all-minilm\"\n",
    "\n",
    "ollama.pull(embedding_model)"
   ]
  },
  {
   "cell_type": "code",
   "execution_count": 5,
   "id": "0411305c-ac1d-4fbe-aea4-08f8fc1bd3ca",
   "metadata": {},
   "outputs": [
    {
     "data": {
      "text/plain": [
       "ProgressResponse(status='success', completed=None, total=None, digest=None)"
      ]
     },
     "execution_count": 5,
     "metadata": {},
     "output_type": "execute_result"
    }
   ],
   "source": [
    "llm = \"deepseek-r1:1.5b\"\n",
    "\n",
    "ollama.pull(llm)"
   ]
  },
  {
   "cell_type": "code",
   "execution_count": 6,
   "id": "2dba1f7b-373d-42fe-be69-f50d763d1e71",
   "metadata": {},
   "outputs": [
    {
     "name": "stderr",
     "output_type": "stream",
     "text": [
      "[nltk_data] Downloading package punkt_tab to\n",
      "[nltk_data]     /Users/akmalchaudhri/nltk_data...\n",
      "[nltk_data]   Unzipping tokenizers/punkt_tab.zip.\n",
      "[nltk_data] Downloading package averaged_perceptron_tagger_eng to\n",
      "[nltk_data]     /Users/akmalchaudhri/nltk_data...\n",
      "[nltk_data]   Unzipping taggers/averaged_perceptron_tagger_eng.zip.\n"
     ]
    },
    {
     "data": {
      "text/plain": [
       "True"
      ]
     },
     "execution_count": 6,
     "metadata": {},
     "output_type": "execute_result"
    }
   ],
   "source": [
    "nltk.download(\"punkt_tab\")\n",
    "nltk.download(\"averaged_perceptron_tagger_eng\")"
   ]
  },
  {
   "cell_type": "code",
   "execution_count": 7,
   "id": "ce34f149-48fe-4b6d-ba52-dd6a9b52afb4",
   "metadata": {},
   "outputs": [
    {
     "name": "stderr",
     "output_type": "stream",
     "text": [
      "[nltk_data] Downloading package punkt to\n",
      "[nltk_data]     /Users/akmalchaudhri/nltk_data...\n",
      "[nltk_data]   Unzipping tokenizers/punkt.zip.\n",
      "[nltk_data] Downloading package averaged_perceptron_tagger to\n",
      "[nltk_data]     /Users/akmalchaudhri/nltk_data...\n",
      "[nltk_data]   Unzipping taggers/averaged_perceptron_tagger.zip.\n"
     ]
    }
   ],
   "source": [
    "loader = OnlinePDFLoader(\"https://www.investni.com/sites/default/files/2021-02/NI-fintech-document.pdf\")\n",
    "\n",
    "data = loader.load()"
   ]
  },
  {
   "cell_type": "code",
   "execution_count": 8,
   "id": "51307f2f-83c4-4acd-9c2f-508934a3d588",
   "metadata": {},
   "outputs": [
    {
     "name": "stdout",
     "output_type": "stream",
     "text": [
      "You have 1 document(s) in your data\n",
      "There are 39674 characters in your document\n"
     ]
    }
   ],
   "source": [
    "print (f\"You have {len(data)} document(s) in your data\")\n",
    "print (f\"There are {len(data[0].page_content)} characters in your document\")"
   ]
  },
  {
   "cell_type": "code",
   "execution_count": 9,
   "id": "5e6d2dd1-103d-4939-8c6c-d9cd011d676c",
   "metadata": {},
   "outputs": [
    {
     "name": "stdout",
     "output_type": "stream",
     "text": [
      "You have 23 pages\n"
     ]
    }
   ],
   "source": [
    "text_splitter = RecursiveCharacterTextSplitter(\n",
    "    chunk_size = 2000,\n",
    "    chunk_overlap = 20\n",
    ")\n",
    "texts = text_splitter.split_documents(data)\n",
    "\n",
    "print (f\"You have {len(texts)} pages\")"
   ]
  },
  {
   "cell_type": "code",
   "execution_count": 10,
   "id": "3deb402a-60ef-425a-b2cf-3368a6805109",
   "metadata": {},
   "outputs": [],
   "source": [
    "embeddings = OllamaEmbeddings(\n",
    "    model = embedding_model,\n",
    ")\n",
    "\n",
    "dimensions = len(embeddings.embed_query(texts[0].page_content))"
   ]
  },
  {
   "cell_type": "code",
   "execution_count": 11,
   "id": "10fbdeeb-9184-4d67-874b-e876d1c97237",
   "metadata": {},
   "outputs": [],
   "source": [
    "docsearch = SingleStoreDB.from_documents(\n",
    "    texts,\n",
    "    embeddings,\n",
    "    table_name = \"fintech_docs\",\n",
    "    distance_strategy = DistanceStrategy.DOT_PRODUCT,\n",
    "    use_vector_index = True,\n",
    "    vector_size = dimensions\n",
    ")"
   ]
  },
  {
   "cell_type": "code",
   "execution_count": 12,
   "id": "b66da897-dad9-40b7-a796-acabdf51e35a",
   "metadata": {},
   "outputs": [
    {
     "name": "stdout",
     "output_type": "stream",
     "text": [
      "Within our well respected financial and related professional services cluster, global leaders including Deloitte and PwC are currently working on the application of blockchain solutions within insurance, digital banking and cross-border payments.\n",
      "\n",
      "PwC\n",
      "\n",
      "Vox Financial Partners\n",
      "\n",
      "The PwC global blockchain impact centre in Belfast comprises a team of fintech professionals with deep expertise and a proven record of delivery of insurance, banking, e-commerce and bitcoin products and services. The Belfast team is exploring the application of this disruptive technology to digital currencies, digital assets, identity and smart contracts. The specialist team has already delivered a significant proof of concept project for the Bank of England, to investigate the capability of distributed ledger technology.\n",
      "\n",
      "www.pwc.co.uk\n",
      "\n",
      "Founded in 2016, the Belfast based Fintech consultancy Vox Financial Partners works with top-tier banks and broker- dealer clients in the US and Europe. Vox offers high quality regulatory expertise to enable its clients to plan, resource and deliver major regulatory change projects. Its Opal software, is a suite of tools that provide structured contract drafting and management on a distributed ledger (permissioned blockchain). Opal reduces operational risk and legal cost by managing the single ‘golden copy’ of a legal doc, and by storing documents with metadata to enable easy searching, querying and reporting.\n",
      "\n",
      "Rakuten Blockchain Lab\n",
      "\n",
      "www.voxfp.com\n"
     ]
    }
   ],
   "source": [
    "prompt = \"What are the best investment opportunities in Blockchain?\"\n",
    "docs = docsearch.similarity_search(prompt)\n",
    "data = docs[0].page_content\n",
    "print(data)"
   ]
  },
  {
   "cell_type": "code",
   "execution_count": 13,
   "id": "869c0fd5-7240-4fa4-8571-40da10eaf74a",
   "metadata": {},
   "outputs": [
    {
     "name": "stdout",
     "output_type": "stream",
     "text": [
      "\n",
      "\n",
      "**Best Investment Opportunities in Blockchain Technology**\n",
      "\n",
      "1. **PwC and Deloitte: Insurance and Banking with Blockchain**\n",
      "   - **Focus:** Utilizes blockchain for secure transactions, cross-border payments, and insurance solutions.\n",
      "   - **Opportunities:** Explores innovative applications beyond traditional methods, such as digital currencies and smart contracts.\n",
      "\n",
      "2. ** Vox Financial Partners: Identity and Smart Contracts**\n",
      "   - **Focus:** Delivers structured contract drafting tools (Opal) on permissioned blockchain, aiming to enhance identity verification and secure payments.\n",
      "   - **Opportunities:** Offers potential for innovative projects in identity management, leveraging blockchain's scalability benefits.\n",
      "\n",
      "3. **Rakuten Blockchain Lab: Opal Software Application**\n",
      "   - **Focus:** Implements DLT solutions for efficient contract management, which could be expanded or acquired for further development.\n",
      "   - **Opportunities:** Provides scalable and secure project opportunities due to DLT's potential for high returns through economies of scale.\n",
      "\n",
      "**Strategic Investment Considerations:**\n",
      "\n",
      "- **Investment Strategy:** Look into joint ventures or partnerships with Deloitte, Vox Financial Partners, and Rakuten. Consider acquisitions of existing projects or expanding current initiatives.\n",
      "  \n",
      "- **Competition:** Monitor competition in the market for blockchain software and services, comparing against established players to identify potential unique opportunities.\n",
      "\n",
      "- **Risks:** Note the rapid evolution of blockchain technology requiring continuous investment and the possibility of regulatory changes impacting identity-related applications.\n",
      "\n",
      "- **Scalability:** Consider the potential for high returns from large-scale blockchain projects due to economies of scale but also requiring significant initial investment.\n",
      "\n",
      "**Conclusion:**\n",
      "The best investment opportunities lie in companies like Deloitte with PwC involvement and Vox Financial Partners, particularly their focus on identity and smart contracts. Rakuten's Opal software offers another key area with potential for further development.\n"
     ]
    }
   ],
   "source": [
    "output = ollama.generate(\n",
    "    model = llm,\n",
    "    prompt = f\"Using this data: {data}. Respond to this prompt: {prompt}.\"\n",
    ")\n",
    "\n",
    "content = output[\"response\"]\n",
    "remove_think_tags = True\n",
    "\n",
    "if remove_think_tags:\n",
    "    content = re.sub(r\"<think>.*?</think>\", \"\", content, flags = re.DOTALL)\n",
    "\n",
    "print(content)"
   ]
  }
 ],
 "metadata": {
  "kernelspec": {
   "display_name": "Python 3 (ipykernel)",
   "language": "python",
   "name": "python3"
  },
  "language_info": {
   "codemirror_mode": {
    "name": "ipython",
    "version": 3
   },
   "file_extension": ".py",
   "mimetype": "text/x-python",
   "name": "python",
   "nbconvert_exporter": "python",
   "pygments_lexer": "ipython3",
   "version": "3.13.1"
  }
 },
 "nbformat": 4,
 "nbformat_minor": 5
}
